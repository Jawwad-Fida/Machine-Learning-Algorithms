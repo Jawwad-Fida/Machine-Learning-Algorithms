{
  "nbformat": 4,
  "nbformat_minor": 0,
  "metadata": {
    "colab": {
      "name": "Logistic_Regression_Sklearn.ipynb",
      "provenance": [],
      "collapsed_sections": [],
      "toc_visible": true
    },
    "kernelspec": {
      "name": "python3",
      "display_name": "Python 3"
    },
    "language_info": {
      "name": "python"
    }
  },
  "cells": [
    {
      "cell_type": "code",
      "metadata": {
        "id": "64N0idiAUng1"
      },
      "source": [
        "%matplotlib inline\n",
        "import matplotlib.pyplot as plt\n",
        "import numpy as np\n",
        "import pandas as pd\n",
        "import seaborn as sns\n",
        "from scipy import optimize\n",
        "\n",
        "import scipy.stats as stat\n",
        "import pylab\n",
        "from collections import Counter"
      ],
      "execution_count": 52,
      "outputs": []
    },
    {
      "cell_type": "markdown",
      "metadata": {
        "id": "fu5R_Cc_VLbq"
      },
      "source": [
        "## Importing the Dataset"
      ]
    },
    {
      "cell_type": "code",
      "metadata": {
        "colab": {
          "base_uri": "https://localhost:8080/",
          "height": 203
        },
        "id": "hGv1JSd_VCAR",
        "outputId": "871616a1-bb23-48a8-bb65-50b744c41776"
      },
      "source": [
        "# Predict whether a customer will buy the new SUV. \n",
        "# This information will later be given to the advertising department to optimize targetting future customers.\n",
        "\n",
        "df = pd.read_csv(\"/content/Social_Network_Ads.csv\") # Binary Classification\n",
        "df.head()"
      ],
      "execution_count": 53,
      "outputs": [
        {
          "output_type": "execute_result",
          "data": {
            "text/html": [
              "<div>\n",
              "<style scoped>\n",
              "    .dataframe tbody tr th:only-of-type {\n",
              "        vertical-align: middle;\n",
              "    }\n",
              "\n",
              "    .dataframe tbody tr th {\n",
              "        vertical-align: top;\n",
              "    }\n",
              "\n",
              "    .dataframe thead th {\n",
              "        text-align: right;\n",
              "    }\n",
              "</style>\n",
              "<table border=\"1\" class=\"dataframe\">\n",
              "  <thead>\n",
              "    <tr style=\"text-align: right;\">\n",
              "      <th></th>\n",
              "      <th>Age</th>\n",
              "      <th>EstimatedSalary</th>\n",
              "      <th>Purchased</th>\n",
              "    </tr>\n",
              "  </thead>\n",
              "  <tbody>\n",
              "    <tr>\n",
              "      <th>0</th>\n",
              "      <td>19</td>\n",
              "      <td>19000</td>\n",
              "      <td>0</td>\n",
              "    </tr>\n",
              "    <tr>\n",
              "      <th>1</th>\n",
              "      <td>35</td>\n",
              "      <td>20000</td>\n",
              "      <td>0</td>\n",
              "    </tr>\n",
              "    <tr>\n",
              "      <th>2</th>\n",
              "      <td>26</td>\n",
              "      <td>43000</td>\n",
              "      <td>0</td>\n",
              "    </tr>\n",
              "    <tr>\n",
              "      <th>3</th>\n",
              "      <td>27</td>\n",
              "      <td>57000</td>\n",
              "      <td>0</td>\n",
              "    </tr>\n",
              "    <tr>\n",
              "      <th>4</th>\n",
              "      <td>19</td>\n",
              "      <td>76000</td>\n",
              "      <td>0</td>\n",
              "    </tr>\n",
              "  </tbody>\n",
              "</table>\n",
              "</div>"
            ],
            "text/plain": [
              "   Age  EstimatedSalary  Purchased\n",
              "0   19            19000          0\n",
              "1   35            20000          0\n",
              "2   26            43000          0\n",
              "3   27            57000          0\n",
              "4   19            76000          0"
            ]
          },
          "metadata": {
            "tags": []
          },
          "execution_count": 53
        }
      ]
    },
    {
      "cell_type": "code",
      "metadata": {
        "colab": {
          "base_uri": "https://localhost:8080/"
        },
        "id": "jYxma531Vmp0",
        "outputId": "fda07467-fa3d-4d6e-cc5e-a78e454204e6"
      },
      "source": [
        "# Length of dataset\n",
        "len(df)"
      ],
      "execution_count": 54,
      "outputs": [
        {
          "output_type": "execute_result",
          "data": {
            "text/plain": [
              "400"
            ]
          },
          "metadata": {
            "tags": []
          },
          "execution_count": 54
        }
      ]
    },
    {
      "cell_type": "code",
      "metadata": {
        "colab": {
          "base_uri": "https://localhost:8080/"
        },
        "id": "WEFkSVSqVspu",
        "outputId": "ac96c2e5-0f5d-4103-c80e-6fe0ca2ca3e2"
      },
      "source": [
        "# Datatype of each column \n",
        "df.dtypes"
      ],
      "execution_count": 55,
      "outputs": [
        {
          "output_type": "execute_result",
          "data": {
            "text/plain": [
              "Age                int64\n",
              "EstimatedSalary    int64\n",
              "Purchased          int64\n",
              "dtype: object"
            ]
          },
          "metadata": {
            "tags": []
          },
          "execution_count": 55
        }
      ]
    },
    {
      "cell_type": "markdown",
      "metadata": {
        "id": "BDBZC6l6V0tF"
      },
      "source": [
        "## Checking for missing values"
      ]
    },
    {
      "cell_type": "code",
      "metadata": {
        "colab": {
          "base_uri": "https://localhost:8080/"
        },
        "id": "UybglRyfVts-",
        "outputId": "485a028c-9006-45b5-9131-6ad12ad173f5"
      },
      "source": [
        "df.isnull().sum()\n",
        "# No missing values"
      ],
      "execution_count": 56,
      "outputs": [
        {
          "output_type": "execute_result",
          "data": {
            "text/plain": [
              "Age                0\n",
              "EstimatedSalary    0\n",
              "Purchased          0\n",
              "dtype: int64"
            ]
          },
          "metadata": {
            "tags": []
          },
          "execution_count": 56
        }
      ]
    },
    {
      "cell_type": "markdown",
      "metadata": {
        "id": "_bL7alEYXX45"
      },
      "source": [
        "## Check for outliers - Logistic Regression is sensitive to outliers"
      ]
    },
    {
      "cell_type": "code",
      "metadata": {
        "colab": {
          "base_uri": "https://localhost:8080/",
          "height": 276
        },
        "id": "O528tOI0V6tU",
        "outputId": "7a4bfb81-a0e1-4f67-f438-87279261f3cb"
      },
      "source": [
        "figure = df.boxplot(column=\"Age\")"
      ],
      "execution_count": 57,
      "outputs": [
        {
          "output_type": "display_data",
          "data": {
            "image/png": "[encoded data removed]",
            "text/plain": [
              "<Figure size 432x288 with 1 Axes>"
            ]
          },
          "metadata": {
            "tags": [],
            "needs_background": "light"
          }
        }
      ]
    },
    {
      "cell_type": "code",
      "metadata": {
        "colab": {
          "base_uri": "https://localhost:8080/",
          "height": 276
        },
        "id": "ICMkOpaJXrCB",
        "outputId": "3c1f382c-1ba8-4607-dfed-b625b2412920"
      },
      "source": [
        "figure = df.boxplot(column=\"EstimatedSalary\")"
      ],
      "execution_count": 58,
      "outputs": [
        {
          "output_type": "display_data",
          "data": {
            "image/png": "[encoded data removed]",
            "text/plain": [
              "<Figure size 432x288 with 1 Axes>"
            ]
          },
          "metadata": {
            "tags": [],
            "needs_background": "light"
          }
        }
      ]
    },
    {
      "cell_type": "markdown",
      "metadata": {
        "id": "agsPNtv5YCUw"
      },
      "source": [
        "## Create matrix of features and label"
      ]
    },
    {
      "cell_type": "code",
      "metadata": {
        "id": "AyoJaEXsX3Qs"
      },
      "source": [
        "X = df.iloc[:,:-1].values # features\n",
        "y = df.iloc[:,-1].values # label\n",
        "\n",
        "# X and y are numpy arrays"
      ],
      "execution_count": 59,
      "outputs": []
    },
    {
      "cell_type": "code",
      "metadata": {
        "colab": {
          "base_uri": "https://localhost:8080/"
        },
        "id": "XjUJFr1yYOvU",
        "outputId": "1460fdb0-950c-4392-8c8b-c986d9f38218"
      },
      "source": [
        "X.shape, y.shape"
      ],
      "execution_count": 60,
      "outputs": [
        {
          "output_type": "execute_result",
          "data": {
            "text/plain": [
              "((400, 2), (400,))"
            ]
          },
          "metadata": {
            "tags": []
          },
          "execution_count": 60
        }
      ]
    },
    {
      "cell_type": "markdown",
      "metadata": {
        "id": "1VbQ3d61ZGce"
      },
      "source": [
        "## Splitting the dataset into Train and Test Set"
      ]
    },
    {
      "cell_type": "code",
      "metadata": {
        "id": "x3_lVSQwZEzE"
      },
      "source": [
        "from sklearn.model_selection import train_test_split\n",
        "\n",
        "# Train - 75% data, Test - 25% data\n",
        "X_train,X_test,y_train,y_test = train_test_split(X, y, test_size=0.25, random_state=0) # test_size = 0.2 is totally fine\n",
        "\n",
        "# random_state --> for same split of data"
      ],
      "execution_count": 61,
      "outputs": []
    },
    {
      "cell_type": "code",
      "metadata": {
        "colab": {
          "base_uri": "https://localhost:8080/"
        },
        "id": "RPoAZnBaaKVl",
        "outputId": "a8ebeb5d-8bf8-4416-ffc1-73ef033f5c33"
      },
      "source": [
        "X_train.shape,y_train.shape,X_test.shape,y_test.shape"
      ],
      "execution_count": 62,
      "outputs": [
        {
          "output_type": "execute_result",
          "data": {
            "text/plain": [
              "((300, 2), (300,), (100, 2), (100,))"
            ]
          },
          "metadata": {
            "tags": []
          },
          "execution_count": 62
        }
      ]
    },
    {
      "cell_type": "markdown",
      "metadata": {
        "id": "lEHS1PrkwWTT"
      },
      "source": [
        "## Feature Scaling (not needed)"
      ]
    },
    {
      "cell_type": "markdown",
      "metadata": {
        "id": "Rcd_Kq-bxHSR"
      },
      "source": [
        "Feature scaling is not needed for all ML algorithms. Only for some.\n",
        "\n",
        "**It is not needed for logistic regression**"
      ]
    },
    {
      "cell_type": "code",
      "metadata": {
        "id": "GVWJXFLa1ZDJ"
      },
      "source": [
        "from sklearn.preprocessing import StandardScaler\n",
        "sc = StandardScaler()\n",
        "\n",
        "X_train = sc.fit_transform(X_train)\n",
        "X_test = sc.transform(X_test)"
      ],
      "execution_count": 63,
      "outputs": []
    },
    {
      "cell_type": "markdown",
      "metadata": {
        "id": "9H9VcjhfxoAJ"
      },
      "source": [
        "## Training Logistic Regression model on Training set"
      ]
    },
    {
      "cell_type": "code",
      "metadata": {
        "colab": {
          "base_uri": "https://localhost:8080/"
        },
        "id": "NS2oTUslaMec",
        "outputId": "4752edda-6769-46f5-a31f-425d6de8ca8c"
      },
      "source": [
        "from sklearn.linear_model import LogisticRegression # class\n",
        "\n",
        "classifier = LogisticRegression() # object, i.e. create the model\n",
        "\n",
        "# Train the model on training set\n",
        "classifier.fit(X_train,y_train) # Fit parameters on hypothesis function \n",
        "\n",
        "# check what the parameters mean by checking out Sklearn documentation"
      ],
      "execution_count": 64,
      "outputs": [
        {
          "output_type": "execute_result",
          "data": {
            "text/plain": [
              "LogisticRegression(C=1.0, class_weight=None, dual=False, fit_intercept=True,\n",
              "                   intercept_scaling=1, l1_ratio=None, max_iter=100,\n",
              "                   multi_class='auto', n_jobs=None, penalty='l2',\n",
              "                   random_state=None, solver='lbfgs', tol=0.0001, verbose=0,\n",
              "                   warm_start=False)"
            ]
          },
          "metadata": {
            "tags": []
          },
          "execution_count": 64
        }
      ]
    },
    {
      "cell_type": "markdown",
      "metadata": {
        "id": "P6LkHOpf0WZk"
      },
      "source": [
        "## Predicitng a new result\n",
        "\n",
        "Age = 30, Expected salary = $87,000\n",
        "Yes or No? To buy SUV"
      ]
    },
    {
      "cell_type": "code",
      "metadata": {
        "colab": {
          "base_uri": "https://localhost:8080/"
        },
        "id": "xadxNZYayvwS",
        "outputId": "eaaf7d62-9b71-4de0-a331-d0acccda8253"
      },
      "source": [
        "# predict() --> direct prediction\n",
        "# predict_proba() --> probability\n",
        "\n",
        "pred = classifier.predict([[30, 87000]]) # input must be a 2D matrix\n",
        "pred\n",
        "# If feature was scaled (though not needed here), classifier.predict(sc.transform([[30, 87000]]))"
      ],
      "execution_count": 65,
      "outputs": [
        {
          "output_type": "execute_result",
          "data": {
            "text/plain": [
              "array([1])"
            ]
          },
          "metadata": {
            "tags": []
          },
          "execution_count": 65
        }
      ]
    },
    {
      "cell_type": "code",
      "metadata": {
        "colab": {
          "base_uri": "https://localhost:8080/"
        },
        "id": "cRcN90-Z1sdt",
        "outputId": "038d548d-cbd6-4eb1-9c73-11e0a53c0c50"
      },
      "source": [
        "pred_prob = classifier.predict_proba([[30, 87000]])\n",
        "pred_prob\n",
        "\n",
        "# probabilty of 0 > 1, so final answer is 0"
      ],
      "execution_count": 66,
      "outputs": [
        {
          "output_type": "execute_result",
          "data": {
            "text/plain": [
              "array([[0., 1.]])"
            ]
          },
          "metadata": {
            "tags": []
          },
          "execution_count": 66
        }
      ]
    },
    {
      "cell_type": "markdown",
      "metadata": {
        "id": "ADTV2f_C1_6B"
      },
      "source": [
        "## Predicting the Test results - Evaluating the model"
      ]
    },
    {
      "cell_type": "code",
      "metadata": {
        "id": "gZWkCpFp15vy"
      },
      "source": [
        "# Test set --> evaluate model on new observations (future data)\n",
        "\n",
        "# Input the features to predict the label(estimated), returns a vector(matrix)\n",
        "y_pred = classifier.predict(X_test)"
      ],
      "execution_count": 67,
      "outputs": []
    },
    {
      "cell_type": "code",
      "metadata": {
        "colab": {
          "base_uri": "https://localhost:8080/"
        },
        "id": "I3ODNw9m3md3",
        "outputId": "03e70922-10a5-45c1-8330-0dcf3b42d45f"
      },
      "source": [
        "# Concatenate the 2 vectors (Compare two numerical vectors - estimated and true)\n",
        "print(np.concatenate((y_pred.reshape(len(y_pred),1), y_test.reshape(len(y_test),1)),1))\n",
        "\n",
        "# reshape vector from horizantal to vertical\n",
        "# axis = 1 for vertical concatenation\n",
        "\n",
        "# first column --> predicted label (test set), second column --> true label (real ones - train set)"
      ],
      "execution_count": 68,
      "outputs": [
        {
          "output_type": "stream",
          "text": [
            "[[0 0]\n",
            " [0 0]\n",
            " [0 0]\n",
            " [0 0]\n",
            " [0 0]\n",
            " [0 0]\n",
            " [0 0]\n",
            " [1 1]\n",
            " [0 0]\n",
            " [1 0]\n",
            " [0 0]\n",
            " [0 0]\n",
            " [0 0]\n",
            " [0 0]\n",
            " [0 0]\n",
            " [0 0]\n",
            " [0 0]\n",
            " [0 0]\n",
            " [1 1]\n",
            " [0 0]\n",
            " [0 0]\n",
            " [1 1]\n",
            " [0 0]\n",
            " [1 1]\n",
            " [0 0]\n",
            " [1 1]\n",
            " [0 0]\n",
            " [0 0]\n",
            " [0 0]\n",
            " [0 0]\n",
            " [0 0]\n",
            " [0 1]\n",
            " [1 1]\n",
            " [0 0]\n",
            " [0 0]\n",
            " [0 0]\n",
            " [0 0]\n",
            " [0 0]\n",
            " [0 0]\n",
            " [1 1]\n",
            " [0 0]\n",
            " [0 0]\n",
            " [0 0]\n",
            " [0 0]\n",
            " [1 1]\n",
            " [0 0]\n",
            " [0 0]\n",
            " [1 1]\n",
            " [0 0]\n",
            " [1 1]\n",
            " [1 1]\n",
            " [0 0]\n",
            " [0 0]\n",
            " [0 0]\n",
            " [1 1]\n",
            " [0 1]\n",
            " [0 0]\n",
            " [0 0]\n",
            " [0 1]\n",
            " [0 0]\n",
            " [0 0]\n",
            " [1 1]\n",
            " [0 0]\n",
            " [0 1]\n",
            " [0 0]\n",
            " [1 1]\n",
            " [0 0]\n",
            " [0 0]\n",
            " [0 0]\n",
            " [0 0]\n",
            " [1 1]\n",
            " [0 0]\n",
            " [0 0]\n",
            " [0 1]\n",
            " [0 0]\n",
            " [0 0]\n",
            " [1 0]\n",
            " [0 0]\n",
            " [1 1]\n",
            " [1 1]\n",
            " [1 1]\n",
            " [1 0]\n",
            " [0 0]\n",
            " [0 0]\n",
            " [1 1]\n",
            " [1 1]\n",
            " [0 0]\n",
            " [1 1]\n",
            " [0 1]\n",
            " [0 0]\n",
            " [0 0]\n",
            " [1 1]\n",
            " [0 0]\n",
            " [0 0]\n",
            " [0 0]\n",
            " [0 1]\n",
            " [0 0]\n",
            " [0 1]\n",
            " [1 1]\n",
            " [1 1]]\n"
          ],
          "name": "stdout"
        }
      ]
    },
    {
      "cell_type": "markdown",
      "metadata": {
        "id": "ZMCuEs894lNa"
      },
      "source": [
        "### Four of the main evaluation metrics/methods you'll come across for classification models are:\n",
        "\n",
        "1. Accuracy\n",
        "2. Area under ROC curve\n",
        "3. Confusion matrix\n",
        "4. Classification report"
      ]
    },
    {
      "cell_type": "markdown",
      "metadata": {
        "id": "pJH8lMrJ4prh"
      },
      "source": [
        "## Confusion Matrix"
      ]
    },
    {
      "cell_type": "markdown",
      "metadata": {
        "id": "uoCw-dpl4_xk"
      },
      "source": [
        "The next way to evaluate a classification model is by using a [confusion matrix.](https://en.wikipedia.org/wiki/Confusion_matrix)\n",
        "\n",
        "A confusion matrix is a quick way to compare estimated labels with actual labels. In essence, giving you an idea of where the model is getting confused."
      ]
    },
    {
      "cell_type": "code",
      "metadata": {
        "colab": {
          "base_uri": "https://localhost:8080/"
        },
        "id": "l6IOON904C8B",
        "outputId": "76e15ce5-d59a-4194-d062-057589b15d2c"
      },
      "source": [
        "from sklearn.metrics import confusion_matrix \n",
        "\n",
        "y_pred = classifier.predict(X_test)\n",
        "\n",
        "confuse_matrix = confusion_matrix(y_test,y_pred) # compare actual labels (test) with predicted labels\n",
        "confuse_matrix"
      ],
      "execution_count": 69,
      "outputs": [
        {
          "output_type": "execute_result",
          "data": {
            "text/plain": [
              "array([[65,  3],\n",
              "       [ 8, 24]])"
            ]
          },
          "metadata": {
            "tags": []
          },
          "execution_count": 69
        }
      ]
    },
    {
      "cell_type": "markdown",
      "metadata": {
        "id": "VzLp-sPi5uED"
      },
      "source": [
        "A BETTER visual way is with Seaborn's [heatmap()](https://seaborn.pydata.org/generated/seaborn.heatmap.html) plot."
      ]
    },
    {
      "cell_type": "code",
      "metadata": {
        "id": "DtP2Vrqk5pcN"
      },
      "source": [
        "# Function to plot confusion matrix using Seaborn's heatmap()\n",
        "\n",
        "def plot_confusion_matrix(confuse_matrix):\n",
        "  fig,ax = plt.subplots(figsize=(8,6))\n",
        "\n",
        "  # Set the font scale\n",
        "  sns.set(font_scale=1.5)\n",
        "\n",
        "  ax = sns.heatmap(\n",
        "      confuse_matrix,\n",
        "      annot=True, # Annote the boxes\n",
        "      cbar=False\n",
        "  )\n",
        "\n",
        "  plt.xlabel(\"Predicted label\")\n",
        "  plt.ylabel(\"True label\")"
      ],
      "execution_count": 70,
      "outputs": []
    },
    {
      "cell_type": "code",
      "metadata": {
        "colab": {
          "base_uri": "https://localhost:8080/",
          "height": 407
        },
        "id": "-EG-sSxI63fM",
        "outputId": "5d7ce9a4-17b2-44f7-c15e-8fb299ce9b54"
      },
      "source": [
        "plot_confusion_matrix(confuse_matrix)"
      ],
      "execution_count": 71,
      "outputs": [
        {
          "output_type": "display_data",
          "data": {
            "image/png": "[encoded data removed]",
            "text/plain": [
              "<Figure size 576x432 with 1 Axes>"
            ]
          },
          "metadata": {
            "tags": [],
            "needs_background": "light"
          }
        }
      ]
    },
    {
      "cell_type": "code",
      "metadata": {
        "id": "IUsLbaFB66Py"
      },
      "source": [
        "# when predict = 0 and actual = 0, we have 65 samples (correct sammples)\n",
        "# when predict = 1 and actual = 1, we have 24 samples (correct sammples)\n",
        "\n",
        "# false +ve --> when predict = 1 and actual = 0\n",
        "# false -ve --> when predict = 0 and actual = 1\n",
        "# so, model is getting confused in false +ve and false -ve"
      ],
      "execution_count": 72,
      "outputs": []
    },
    {
      "cell_type": "markdown",
      "metadata": {
        "id": "7_rxtapbAsZD"
      },
      "source": [
        "For clarity: (predict target vs true target)\n",
        "\n",
        "* True positive = model predicts 1 when truth is 1\n",
        "* False positive = model predicts 1 when truth is 0\n",
        "* True negative = model predicts 0 when truth is 0\n",
        "* False negative = model predicts 0 when truth is 1"
      ]
    },
    {
      "cell_type": "code",
      "metadata": {
        "id": "VEQ5nfGf7LjB",
        "colab": {
          "base_uri": "https://localhost:8080/"
        },
        "outputId": "19f3f3d4-0e2b-4bc6-d461-f74e27e7999e"
      },
      "source": [
        "from sklearn.metrics import accuracy_score\n",
        "accuracy_score(y_test,y_pred)"
      ],
      "execution_count": 73,
      "outputs": [
        {
          "output_type": "execute_result",
          "data": {
            "text/plain": [
              "0.89"
            ]
          },
          "metadata": {
            "tags": []
          },
          "execution_count": 73
        }
      ]
    },
    {
      "cell_type": "markdown",
      "metadata": {
        "id": "fgH0dDwp4RpT"
      },
      "source": [
        "## Classification Report"
      ]
    },
    {
      "cell_type": "markdown",
      "metadata": {
        "id": "PLes4w4r4cUQ"
      },
      "source": [
        "A classification report is a collection of metrics.\n",
        "\n",
        "create a classification report using Scikit-Learn's [classification_report()](https://scikit-learn.org/stable/modules/generated/sklearn.metrics.classification_report.html) function."
      ]
    },
    {
      "cell_type": "code",
      "metadata": {
        "colab": {
          "base_uri": "https://localhost:8080/"
        },
        "id": "9tl7dzID1NbY",
        "outputId": "639216bc-fd7a-4191-df4a-6fdfa00025a9"
      },
      "source": [
        "from sklearn.metrics import classification_report\n",
        "print(classification_report(y_test,y_pred))"
      ],
      "execution_count": 74,
      "outputs": [
        {
          "output_type": "stream",
          "text": [
            "              precision    recall  f1-score   support\n",
            "\n",
            "           0       0.89      0.96      0.92        68\n",
            "           1       0.89      0.75      0.81        32\n",
            "\n",
            "    accuracy                           0.89       100\n",
            "   macro avg       0.89      0.85      0.87       100\n",
            "weighted avg       0.89      0.89      0.89       100\n",
            "\n"
          ],
          "name": "stdout"
        }
      ]
    },
    {
      "cell_type": "markdown",
      "metadata": {
        "id": "QHu7omuo6aOd"
      },
      "source": [
        "It returns four columns: precision, recall, f1-score and support.\n",
        "\n",
        "Each term measures something slightly different:\n",
        "\n",
        "* **Precision** - Indicates the proportion of positive identifications (model predicted class 1) which were actually correct. A model which produces no false positives has a precision of 1.0.\n",
        "* **Recall** - Indicates the proportion of actual positives which were correctly classified. A model which produces no false negatives has a recall of 1.0.\n",
        "* **F1 score** - A combination of precision and recall. A perfect model achieves an F1 score of 1.0.\n",
        "* **Support** - The number of samples each metric was calculated on.\n",
        "* **Accuracy** - The accuracy of the model in decimal form. Perfect accuracy is equal to 1.0, in other words, getting the prediction right 100% of the time.\n",
        "* **Macro avg** - Short for macro average, the average precision, recall and F1 score between classes. Macro avg doesn't take class imbalance into effect. So if you do have class imbalances (more examples of one class than another), you should pay attention to this.\n",
        "* **Weighted avg** - Short for weighted average, the weighted average precision, recall and F1 score between classes. Weighted means each metric is calculated with respect to how many samples there are in each class. This metric will favour the majority class (e.g. it will give a high value when one class out performs another due to having more samples)."
      ]
    },
    {
      "cell_type": "markdown",
      "metadata": {
        "id": "W52ogV7M6eXZ"
      },
      "source": [
        "**When should you use each?**\n",
        "\n",
        "It can be tempting to base your classification models perfomance only on accuracy. And accuracy is a good metric to report, except when you have very imbalanced classes.\n",
        "\n",
        "To summarize:\n",
        "\n",
        "* Accuracy is a good measure to start with if all classes are balanced (e.g. same amount of samples which are labelled with 0 or 1)\n",
        "* Precision and recall become more important when classes are imbalanced.\n",
        "* If false positive predictions are worse than false negatives, aim for higher precision.\n",
        "* If false negative predictions are worse than false positives, aim for higher recall."
      ]
    },
    {
      "cell_type": "markdown",
      "metadata": {
        "id": "iNuFA_V-7Z1r"
      },
      "source": [
        "## Visualize the Training set results"
      ]
    },
    {
      "cell_type": "code",
      "metadata": {
        "colab": {
          "base_uri": "https://localhost:8080/",
          "height": 372
        },
        "id": "FVQsBy914wAy",
        "outputId": "8c8fb7ed-3c12-4a51-82ae-cfa6752a4113"
      },
      "source": [
        "# x axis --> 1st feature (Age), y axis --> 2nd feature (Expected salary)\n",
        "# each points corresponds to a single sample\n",
        "\n",
        "# we will plot a decision boundary - a linear classifier\n",
        "# code is pretty much advanced -- only useful for training purposes (no need to understand that much)\n",
        "\n",
        "from matplotlib.colors import ListedColormap\n",
        "\n",
        "X_set, y_set = sc.inverse_transform(X_train), y_train # Train set\n",
        "\n",
        "# create a grid of ranges, step = 0.25 --> dense grid\n",
        "X1, X2 = np.meshgrid(np.arange(start = X_set[:, 0].min() - 10, stop = X_set[:, 0].max() + 10, step = 0.25),\n",
        "                     np.arange(start = X_set[:, 1].min() - 1000, stop = X_set[:, 1].max() + 1000, step = 0.25))\n",
        "\n",
        "# green - 1, red - 0\n",
        "# apply predict method on each dense point in the grid\n",
        "plt.contourf(X1, X2, classifier.predict(sc.transform(np.array([X1.ravel(), X2.ravel()]).T)).reshape(X1.shape),\n",
        "             alpha = 0.75, cmap = ListedColormap(('red', 'green')))\n",
        "\n",
        "plt.xlim(X1.min(), X1.max())\n",
        "plt.ylim(X2.min(), X2.max())\n",
        "\n",
        "for i, j in enumerate(np.unique(y_set)):\n",
        "    plt.scatter(X_set[y_set == j, 0], X_set[y_set == j, 1], c = ListedColormap(('red', 'green'))(i), label = j)\n",
        "\n",
        "plt.title('Logistic Regression (Training set)')\n",
        "plt.xlabel('Age')\n",
        "plt.ylabel('Estimated Salary')\n",
        "plt.legend()\n",
        "plt.show()"
      ],
      "execution_count": 75,
      "outputs": [
        {
          "output_type": "stream",
          "text": [
            "*c* argument looks like a single numeric RGB or RGBA sequence, which should be avoided as value-mapping will have precedence in case its length matches with *x* & *y*.  Please use the *color* keyword-argument or provide a 2-D array with a single row if you intend to specify the same RGB or RGBA value for all points.\n",
            "*c* argument looks like a single numeric RGB or RGBA sequence, which should be avoided as value-mapping will have precedence in case its length matches with *x* & *y*.  Please use the *color* keyword-argument or provide a 2-D array with a single row if you intend to specify the same RGB or RGBA value for all points.\n"
          ],
          "name": "stderr"
        },
        {
          "output_type": "display_data",
          "data": {
            "image/png": "[encoded data removed]",
            "text/plain": [
              "<Figure size 432x288 with 1 Axes>"
            ]
          },
          "metadata": {
            "tags": []
          }
        }
      ]
    },
    {
      "cell_type": "markdown",
      "metadata": {
        "id": "p10hVpSg9kh6"
      },
      "source": [
        "## Visualize the Test Set results"
      ]
    },
    {
      "cell_type": "code",
      "metadata": {
        "colab": {
          "base_uri": "https://localhost:8080/",
          "height": 372
        },
        "id": "Agg1XE5N9o7A",
        "outputId": "917a916d-5e2d-4bec-e628-54855500cd7f"
      },
      "source": [
        "from matplotlib.colors import ListedColormap\n",
        "\n",
        "X_set, y_set = sc.inverse_transform(X_test), y_test # Test set (new, unseen samples)\n",
        "\n",
        "X1, X2 = np.meshgrid(np.arange(start = X_set[:, 0].min() - 10, stop = X_set[:, 0].max() + 10, step = 0.25),\n",
        "                     np.arange(start = X_set[:, 1].min() - 1000, stop = X_set[:, 1].max() + 1000, step = 0.25))\n",
        "plt.contourf(X1, X2, classifier.predict(sc.transform(np.array([X1.ravel(), X2.ravel()]).T)).reshape(X1.shape),\n",
        "             alpha = 0.75, cmap = ListedColormap(('red', 'green')))\n",
        "\n",
        "plt.xlim(X1.min(), X1.max())\n",
        "plt.ylim(X2.min(), X2.max())\n",
        "\n",
        "for i, j in enumerate(np.unique(y_set)):\n",
        "    plt.scatter(X_set[y_set == j, 0], X_set[y_set == j, 1], c = ListedColormap(('red', 'green'))(i), label = j)\n",
        "\n",
        "plt.title('Logistic Regression (Test set)')\n",
        "plt.xlabel('Age')\n",
        "plt.ylabel('Estimated Salary')\n",
        "plt.legend()\n",
        "plt.show()"
      ],
      "execution_count": 76,
      "outputs": [
        {
          "output_type": "stream",
          "text": [
            "*c* argument looks like a single numeric RGB or RGBA sequence, which should be avoided as value-mapping will have precedence in case its length matches with *x* & *y*.  Please use the *color* keyword-argument or provide a 2-D array with a single row if you intend to specify the same RGB or RGBA value for all points.\n",
            "*c* argument looks like a single numeric RGB or RGBA sequence, which should be avoided as value-mapping will have precedence in case its length matches with *x* & *y*.  Please use the *color* keyword-argument or provide a 2-D array with a single row if you intend to specify the same RGB or RGBA value for all points.\n"
          ],
          "name": "stderr"
        },
        {
          "output_type": "display_data",
          "data": {
            "image/png": "[encoded data removed]",
            "text/plain": [
              "<Figure size 432x288 with 1 Axes>"
            ]
          },
          "metadata": {
            "tags": []
          }
        }
      ]
    },
    {
      "cell_type": "code",
      "metadata": {
        "id": "18HKjmUA-QwX"
      },
      "source": [
        "# There are still some incorrect predictions using decision boundary (linear classifier)\n",
        "\n",
        "# So we will use a stronger classification algorithm (non-linear classifiers), i.e. a prediction curve"
      ],
      "execution_count": null,
      "outputs": []
    }
  ]
}